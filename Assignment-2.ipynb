{
 "cells": [
  {
   "cell_type": "markdown",
   "id": "3c6be215",
   "metadata": {},
   "source": [
    "\n",
    "# IMPORT LIBRARIES"
   ]
  },
  {
   "cell_type": "code",
   "execution_count": 1,
   "id": "c130c8a9",
   "metadata": {},
   "outputs": [],
   "source": [
    "import numpy as np\n",
    "import pandas as pd\n",
    "import matplotlib.pyplot as plt\n",
    "import random"
   ]
  },
  {
   "cell_type": "code",
   "execution_count": 2,
   "id": "b0166e19",
   "metadata": {},
   "outputs": [
    {
     "data": {
      "text/html": [
       "<div>\n",
       "<style scoped>\n",
       "    .dataframe tbody tr th:only-of-type {\n",
       "        vertical-align: middle;\n",
       "    }\n",
       "\n",
       "    .dataframe tbody tr th {\n",
       "        vertical-align: top;\n",
       "    }\n",
       "\n",
       "    .dataframe thead th {\n",
       "        text-align: right;\n",
       "    }\n",
       "</style>\n",
       "<table border=\"1\" class=\"dataframe\">\n",
       "  <thead>\n",
       "    <tr style=\"text-align: right;\">\n",
       "      <th></th>\n",
       "      <th>fire</th>\n",
       "      <th>year</th>\n",
       "      <th>temp</th>\n",
       "      <th>humidity</th>\n",
       "      <th>rainfall</th>\n",
       "      <th>drought_code</th>\n",
       "      <th>buildup_index</th>\n",
       "      <th>day</th>\n",
       "      <th>month</th>\n",
       "      <th>wind_speed</th>\n",
       "    </tr>\n",
       "  </thead>\n",
       "  <tbody>\n",
       "    <tr>\n",
       "      <th>0</th>\n",
       "      <td>no</td>\n",
       "      <td>2015</td>\n",
       "      <td>28</td>\n",
       "      <td>59</td>\n",
       "      <td>0.0</td>\n",
       "      <td>8.06</td>\n",
       "      <td>3.47</td>\n",
       "      <td>1</td>\n",
       "      <td>6</td>\n",
       "      <td>19</td>\n",
       "    </tr>\n",
       "    <tr>\n",
       "      <th>1</th>\n",
       "      <td>no</td>\n",
       "      <td>2010</td>\n",
       "      <td>30</td>\n",
       "      <td>61</td>\n",
       "      <td>1.3</td>\n",
       "      <td>8.17</td>\n",
       "      <td>4.03</td>\n",
       "      <td>2</td>\n",
       "      <td>6</td>\n",
       "      <td>13</td>\n",
       "    </tr>\n",
       "    <tr>\n",
       "      <th>2</th>\n",
       "      <td>no</td>\n",
       "      <td>2009</td>\n",
       "      <td>26</td>\n",
       "      <td>83</td>\n",
       "      <td>13.1</td>\n",
       "      <td>8.08</td>\n",
       "      <td>3.59</td>\n",
       "      <td>3</td>\n",
       "      <td>6</td>\n",
       "      <td>22</td>\n",
       "    </tr>\n",
       "    <tr>\n",
       "      <th>3</th>\n",
       "      <td>no</td>\n",
       "      <td>2017</td>\n",
       "      <td>25</td>\n",
       "      <td>87</td>\n",
       "      <td>2.5</td>\n",
       "      <td>7.18</td>\n",
       "      <td>2.42</td>\n",
       "      <td>4</td>\n",
       "      <td>6</td>\n",
       "      <td>15</td>\n",
       "    </tr>\n",
       "    <tr>\n",
       "      <th>4</th>\n",
       "      <td>no</td>\n",
       "      <td>2014</td>\n",
       "      <td>28</td>\n",
       "      <td>77</td>\n",
       "      <td>0.0</td>\n",
       "      <td>14.98</td>\n",
       "      <td>4.63</td>\n",
       "      <td>5</td>\n",
       "      <td>6</td>\n",
       "      <td>18</td>\n",
       "    </tr>\n",
       "    <tr>\n",
       "      <th>...</th>\n",
       "      <td>...</td>\n",
       "      <td>...</td>\n",
       "      <td>...</td>\n",
       "      <td>...</td>\n",
       "      <td>...</td>\n",
       "      <td>...</td>\n",
       "      <td>...</td>\n",
       "      <td>...</td>\n",
       "      <td>...</td>\n",
       "      <td>...</td>\n",
       "    </tr>\n",
       "    <tr>\n",
       "      <th>199</th>\n",
       "      <td>yes</td>\n",
       "      <td>2017</td>\n",
       "      <td>31</td>\n",
       "      <td>67</td>\n",
       "      <td>0.0</td>\n",
       "      <td>45.15</td>\n",
       "      <td>17.89</td>\n",
       "      <td>26</td>\n",
       "      <td>9</td>\n",
       "      <td>15</td>\n",
       "    </tr>\n",
       "    <tr>\n",
       "      <th>200</th>\n",
       "      <td>no</td>\n",
       "      <td>2017</td>\n",
       "      <td>29</td>\n",
       "      <td>89</td>\n",
       "      <td>4.4</td>\n",
       "      <td>8.74</td>\n",
       "      <td>6.52</td>\n",
       "      <td>27</td>\n",
       "      <td>9</td>\n",
       "      <td>15</td>\n",
       "    </tr>\n",
       "    <tr>\n",
       "      <th>201</th>\n",
       "      <td>no</td>\n",
       "      <td>2009</td>\n",
       "      <td>27</td>\n",
       "      <td>88</td>\n",
       "      <td>0.5</td>\n",
       "      <td>8.87</td>\n",
       "      <td>3.71</td>\n",
       "      <td>28</td>\n",
       "      <td>9</td>\n",
       "      <td>30</td>\n",
       "    </tr>\n",
       "    <tr>\n",
       "      <th>202</th>\n",
       "      <td>no</td>\n",
       "      <td>2016</td>\n",
       "      <td>25</td>\n",
       "      <td>56</td>\n",
       "      <td>0.1</td>\n",
       "      <td>15.54</td>\n",
       "      <td>6.10</td>\n",
       "      <td>29</td>\n",
       "      <td>9</td>\n",
       "      <td>20</td>\n",
       "    </tr>\n",
       "    <tr>\n",
       "      <th>203</th>\n",
       "      <td>no</td>\n",
       "      <td>2012</td>\n",
       "      <td>24</td>\n",
       "      <td>62</td>\n",
       "      <td>0.2</td>\n",
       "      <td>16.72</td>\n",
       "      <td>5.75</td>\n",
       "      <td>30</td>\n",
       "      <td>9</td>\n",
       "      <td>17</td>\n",
       "    </tr>\n",
       "  </tbody>\n",
       "</table>\n",
       "<p>204 rows × 10 columns</p>\n",
       "</div>"
      ],
      "text/plain": [
       "    fire  year  temp  humidity  rainfall  drought_code  buildup_index  day  \\\n",
       "0     no  2015    28        59       0.0          8.06           3.47    1   \n",
       "1     no  2010    30        61       1.3          8.17           4.03    2   \n",
       "2     no  2009    26        83      13.1          8.08           3.59    3   \n",
       "3     no  2017    25        87       2.5          7.18           2.42    4   \n",
       "4     no  2014    28        77       0.0         14.98           4.63    5   \n",
       "..   ...   ...   ...       ...       ...           ...            ...  ...   \n",
       "199  yes  2017    31        67       0.0         45.15          17.89   26   \n",
       "200   no  2017    29        89       4.4          8.74           6.52   27   \n",
       "201   no  2009    27        88       0.5          8.87           3.71   28   \n",
       "202   no  2016    25        56       0.1         15.54           6.10   29   \n",
       "203   no  2012    24        62       0.2         16.72           5.75   30   \n",
       "\n",
       "     month  wind_speed  \n",
       "0        6          19  \n",
       "1        6          13  \n",
       "2        6          22  \n",
       "3        6          15  \n",
       "4        6          18  \n",
       "..     ...         ...  \n",
       "199      9          15  \n",
       "200      9          15  \n",
       "201      9          30  \n",
       "202      9          20  \n",
       "203      9          17  \n",
       "\n",
       "[204 rows x 10 columns]"
      ]
     },
     "execution_count": 2,
     "metadata": {},
     "output_type": "execute_result"
    }
   ],
   "source": [
    "data = pd.read_table(\"10223261.txt\", delim_whitespace=True)\n",
    "data"
   ]
  },
  {
   "cell_type": "code",
   "execution_count": 3,
   "id": "f66c5228",
   "metadata": {},
   "outputs": [
    {
     "data": {
      "text/html": [
       "<div>\n",
       "<style scoped>\n",
       "    .dataframe tbody tr th:only-of-type {\n",
       "        vertical-align: middle;\n",
       "    }\n",
       "\n",
       "    .dataframe tbody tr th {\n",
       "        vertical-align: top;\n",
       "    }\n",
       "\n",
       "    .dataframe thead th {\n",
       "        text-align: right;\n",
       "    }\n",
       "</style>\n",
       "<table border=\"1\" class=\"dataframe\">\n",
       "  <thead>\n",
       "    <tr style=\"text-align: right;\">\n",
       "      <th></th>\n",
       "      <th>fire</th>\n",
       "      <th>year</th>\n",
       "      <th>temp</th>\n",
       "      <th>humidity</th>\n",
       "      <th>rainfall</th>\n",
       "      <th>drought_code</th>\n",
       "      <th>buildup_index</th>\n",
       "      <th>day</th>\n",
       "      <th>month</th>\n",
       "      <th>wind_speed</th>\n",
       "    </tr>\n",
       "  </thead>\n",
       "  <tbody>\n",
       "    <tr>\n",
       "      <th>0</th>\n",
       "      <td>no</td>\n",
       "      <td>2015</td>\n",
       "      <td>28</td>\n",
       "      <td>59</td>\n",
       "      <td>0.0</td>\n",
       "      <td>8.06</td>\n",
       "      <td>3.47</td>\n",
       "      <td>1</td>\n",
       "      <td>6</td>\n",
       "      <td>19</td>\n",
       "    </tr>\n",
       "    <tr>\n",
       "      <th>1</th>\n",
       "      <td>no</td>\n",
       "      <td>2010</td>\n",
       "      <td>30</td>\n",
       "      <td>61</td>\n",
       "      <td>1.3</td>\n",
       "      <td>8.17</td>\n",
       "      <td>4.03</td>\n",
       "      <td>2</td>\n",
       "      <td>6</td>\n",
       "      <td>13</td>\n",
       "    </tr>\n",
       "    <tr>\n",
       "      <th>2</th>\n",
       "      <td>no</td>\n",
       "      <td>2009</td>\n",
       "      <td>26</td>\n",
       "      <td>83</td>\n",
       "      <td>13.1</td>\n",
       "      <td>8.08</td>\n",
       "      <td>3.59</td>\n",
       "      <td>3</td>\n",
       "      <td>6</td>\n",
       "      <td>22</td>\n",
       "    </tr>\n",
       "    <tr>\n",
       "      <th>3</th>\n",
       "      <td>no</td>\n",
       "      <td>2017</td>\n",
       "      <td>25</td>\n",
       "      <td>87</td>\n",
       "      <td>2.5</td>\n",
       "      <td>7.18</td>\n",
       "      <td>2.42</td>\n",
       "      <td>4</td>\n",
       "      <td>6</td>\n",
       "      <td>15</td>\n",
       "    </tr>\n",
       "    <tr>\n",
       "      <th>4</th>\n",
       "      <td>no</td>\n",
       "      <td>2014</td>\n",
       "      <td>28</td>\n",
       "      <td>77</td>\n",
       "      <td>0.0</td>\n",
       "      <td>14.98</td>\n",
       "      <td>4.63</td>\n",
       "      <td>5</td>\n",
       "      <td>6</td>\n",
       "      <td>18</td>\n",
       "    </tr>\n",
       "  </tbody>\n",
       "</table>\n",
       "</div>"
      ],
      "text/plain": [
       "  fire  year  temp  humidity  rainfall  drought_code  buildup_index  day  \\\n",
       "0   no  2015    28        59       0.0          8.06           3.47    1   \n",
       "1   no  2010    30        61       1.3          8.17           4.03    2   \n",
       "2   no  2009    26        83      13.1          8.08           3.59    3   \n",
       "3   no  2017    25        87       2.5          7.18           2.42    4   \n",
       "4   no  2014    28        77       0.0         14.98           4.63    5   \n",
       "\n",
       "   month  wind_speed  \n",
       "0      6          19  \n",
       "1      6          13  \n",
       "2      6          22  \n",
       "3      6          15  \n",
       "4      6          18  "
      ]
     },
     "execution_count": 3,
     "metadata": {},
     "output_type": "execute_result"
    }
   ],
   "source": [
    "data.head()"
   ]
  },
  {
   "cell_type": "code",
   "execution_count": 4,
   "id": "bea05615",
   "metadata": {},
   "outputs": [
    {
     "data": {
      "text/plain": [
       "Index(['fire', 'year', 'temp', 'humidity', 'rainfall', 'drought_code',\n",
       "       'buildup_index', 'day', 'month', 'wind_speed'],\n",
       "      dtype='object')"
      ]
     },
     "execution_count": 4,
     "metadata": {},
     "output_type": "execute_result"
    }
   ],
   "source": [
    "data.keys()"
   ]
  },
  {
   "cell_type": "code",
   "execution_count": 5,
   "id": "fba8360b",
   "metadata": {},
   "outputs": [
    {
     "data": {
      "text/plain": [
       "0      0\n",
       "1      0\n",
       "2      0\n",
       "3      0\n",
       "4      0\n",
       "      ..\n",
       "199    1\n",
       "200    0\n",
       "201    0\n",
       "202    0\n",
       "203    0\n",
       "Name: fire, Length: 204, dtype: int64"
      ]
     },
     "execution_count": 5,
     "metadata": {},
     "output_type": "execute_result"
    }
   ],
   "source": [
    "data['fire'] = data['fire'].map({'yes':1, 'no':0})\n",
    "data['fire']"
   ]
  },
  {
   "cell_type": "markdown",
   "id": "cb8559dc",
   "metadata": {},
   "source": [
    "# DATA SPLITTING INTO TRAINING AND TESTING"
   ]
  },
  {
   "cell_type": "code",
   "execution_count": 6,
   "id": "e18167e1",
   "metadata": {},
   "outputs": [],
   "source": [
    "features = ['year', 'temp', 'humidity', 'rainfall', 'drought_code', 'buildup_index', 'day', 'month', 'wind_speed']\n",
    "x = data.loc[:, features]\n",
    "y = data.loc[:, ['fire']]"
   ]
  },
  {
   "cell_type": "code",
   "execution_count": 7,
   "id": "db94449e",
   "metadata": {
    "scrolled": true
   },
   "outputs": [
    {
     "data": {
      "text/plain": [
       "1    107\n",
       "0     97\n",
       "Name: fire, dtype: int64"
      ]
     },
     "execution_count": 7,
     "metadata": {},
     "output_type": "execute_result"
    }
   ],
   "source": [
    "data['fire'].value_counts()"
   ]
  },
  {
   "cell_type": "code",
   "execution_count": 8,
   "id": "e3ae880a",
   "metadata": {},
   "outputs": [],
   "source": [
    "from sklearn.model_selection import train_test_split\n",
    "\n",
    "x_train, x_test, y_train, y_test = train_test_split(x, y, random_state=70, train_size = 0.67)"
   ]
  },
  {
   "cell_type": "code",
   "execution_count": 9,
   "id": "aa6a241e",
   "metadata": {},
   "outputs": [
    {
     "data": {
      "text/plain": [
       "(136, 9)"
      ]
     },
     "execution_count": 9,
     "metadata": {},
     "output_type": "execute_result"
    }
   ],
   "source": [
    "x_train.shape"
   ]
  },
  {
   "cell_type": "code",
   "execution_count": 10,
   "id": "9b830642",
   "metadata": {
    "scrolled": true
   },
   "outputs": [
    {
     "data": {
      "text/plain": [
       "(68, 9)"
      ]
     },
     "execution_count": 10,
     "metadata": {},
     "output_type": "execute_result"
    }
   ],
   "source": [
    "x_test.shape"
   ]
  },
  {
   "cell_type": "code",
   "execution_count": 11,
   "id": "890f1502",
   "metadata": {},
   "outputs": [
    {
     "data": {
      "text/plain": [
       "(136, 1)"
      ]
     },
     "execution_count": 11,
     "metadata": {},
     "output_type": "execute_result"
    }
   ],
   "source": [
    "y_train.shape"
   ]
  },
  {
   "cell_type": "code",
   "execution_count": 12,
   "id": "3eb90945",
   "metadata": {},
   "outputs": [
    {
     "data": {
      "text/plain": [
       "(68, 1)"
      ]
     },
     "execution_count": 12,
     "metadata": {},
     "output_type": "execute_result"
    }
   ],
   "source": [
    "y_test.shape"
   ]
  },
  {
   "cell_type": "code",
   "execution_count": 13,
   "id": "49093da4",
   "metadata": {},
   "outputs": [
    {
     "data": {
      "text/plain": [
       "(136, 9)"
      ]
     },
     "execution_count": 13,
     "metadata": {},
     "output_type": "execute_result"
    }
   ],
   "source": [
    "x_train_array = np.array(x_train)\n",
    "y_train_array = np.array(y_train)\n",
    "x_test_array = np.array(x_test)\n",
    "y_test_array = np.array(y_test)\n",
    "x_train_array.shape"
   ]
  },
  {
   "cell_type": "markdown",
   "id": "1ae39a4a",
   "metadata": {},
   "source": [
    "# INITIALIZING RANDOM WEIGHTS AND BIAS"
   ]
  },
  {
   "cell_type": "code",
   "execution_count": 164,
   "id": "ec4dc717",
   "metadata": {},
   "outputs": [
    {
     "data": {
      "text/plain": [
       "(1, 9)"
      ]
     },
     "execution_count": 164,
     "metadata": {},
     "output_type": "execute_result"
    }
   ],
   "source": [
    "w1 = np.zeros((1,9))\n",
    "b1 = 0\n",
    "w2 = np.zeros((1,9))\n",
    "b2 = 0\n",
    "hidden = [1,9]\n",
    "h1 = np.matrix(hidden)\n",
    "w2.shape"
   ]
  },
  {
   "cell_type": "code",
   "execution_count": 165,
   "id": "9c3fb1e0",
   "metadata": {},
   "outputs": [
    {
     "data": {
      "text/plain": [
       "(1, 9)"
      ]
     },
     "execution_count": 165,
     "metadata": {},
     "output_type": "execute_result"
    }
   ],
   "source": [
    "w1.shape"
   ]
  },
  {
   "cell_type": "code",
   "execution_count": 166,
   "id": "ebcdbd43",
   "metadata": {},
   "outputs": [
    {
     "data": {
      "text/plain": [
       "(136, 1)"
      ]
     },
     "execution_count": 166,
     "metadata": {},
     "output_type": "execute_result"
    }
   ],
   "source": [
    "y_train_array.shape"
   ]
  },
  {
   "cell_type": "markdown",
   "id": "8d22d5b0",
   "metadata": {},
   "source": [
    "# FORWARD PROPAGATION"
   ]
  },
  {
   "cell_type": "code",
   "execution_count": 176,
   "id": "bdc1f603",
   "metadata": {},
   "outputs": [],
   "source": [
    "def sigmoid(x):\n",
    "    return 1.0 / (1.0 + np.exp(-x))\n",
    "\n",
    "def der_sigmoid(x):\n",
    "    return sigmoid(x) * 1 - sigmoid(x)\n",
    "\n",
    "def forward(x, w1, b1, w2, b2):\n",
    "    h1 = np.dot(np.matrix.transpose(w1),np.matrix.transpose(x)) + b1    # 1st layer input to 1st hidden layer\n",
    "    h1o = sigmoid(h1)\n",
    "    print(h1o.shape)# 1st hidden layer apply sigmoid function\n",
    "    \n",
    "    y = np.dot(w2,h1o) + b2    # 1st hidden layer output to second hidden layer\n",
    "    yo = sigmoid(y)\n",
    "    print(yo.shape)# 2nd hidden layer apply sigmoid activation function\n",
    "    \n",
    "    return h1o, yo\n"
   ]
  },
  {
   "cell_type": "code",
   "execution_count": 178,
   "id": "9a731e6d",
   "metadata": {
    "scrolled": true
   },
   "outputs": [
    {
     "name": "stdout",
     "output_type": "stream",
     "text": [
      "(9, 136)\n",
      "(1, 136)\n"
     ]
    },
    {
     "name": "stderr",
     "output_type": "stream",
     "text": [
      "C:\\Users\\anagh\\AppData\\Local\\Temp\\ipykernel_14176\\1561900663.py:2: VisibleDeprecationWarning: Creating an ndarray from ragged nested sequences (which is a list-or-tuple of lists-or-tuples-or ndarrays with different lengths or shapes) is deprecated. If you meant to do this, you must specify 'dtype=object' when creating the ndarray.\n",
      "  yout_array = np.array(yout)\n"
     ]
    },
    {
     "data": {
      "text/plain": [
       "(2,)"
      ]
     },
     "execution_count": 178,
     "metadata": {},
     "output_type": "execute_result"
    }
   ],
   "source": [
    "yout = forward(y_train_array, w1, b1, w2, b2)\n",
    "yout_array = np.array(yout)\n",
    "yout_array.shape\n",
    "\n",
    "# yout_array = np.matrix.reshape(yout_ar, [2,1])\n",
    "\n",
    "# yout_array.shape"
   ]
  },
  {
   "cell_type": "markdown",
   "id": "8f13fad7",
   "metadata": {},
   "source": [
    "# BACK PROPAGATION GRADIENT DESCENT"
   ]
  },
  {
   "cell_type": "code",
   "execution_count": 145,
   "id": "1bdfe108",
   "metadata": {},
   "outputs": [
    {
     "name": "stdout",
     "output_type": "stream",
     "text": [
      "(9, 136)\n",
      "[[0.125 0.125 0.125 ... 0.125 0.125 0.125]\n",
      " [0.125 0.125 0.125 ... 0.125 0.125 0.125]\n",
      " [0.125 0.125 0.125 ... 0.125 0.125 0.125]\n",
      " ...\n",
      " [0.125 0.125 0.125 ... 0.125 0.125 0.125]\n",
      " [0.125 0.125 0.125 ... 0.125 0.125 0.125]\n",
      " [0.125 0.125 0.125 ... 0.125 0.125 0.125]]\n",
      "[[0.9375 0.9375 0.9375 ... 0.9375 0.9375 0.9375]\n",
      " [0.9375 0.9375 0.9375 ... 0.9375 0.9375 0.9375]\n",
      " [0.9375 0.9375 0.9375 ... 0.9375 0.9375 0.9375]\n",
      " ...\n",
      " [0.9375 0.9375 0.9375 ... 0.9375 0.9375 0.9375]\n",
      " [0.9375 0.9375 0.9375 ... 0.9375 0.9375 0.9375]\n",
      " [0.9375 0.9375 0.9375 ... 0.9375 0.9375 0.9375]]\n",
      "(9, 136)\n"
     ]
    }
   ],
   "source": [
    "def mse(y_true,y_pred):\n",
    "    return 0.5*((y_pred-y_true)**2).mean()\n",
    "\n",
    "\n",
    "error = mse(yout_array,np.matrix.transpose(y_train_array))\n",
    "print(error.shape)\n",
    "print(error)\n",
    "\n",
    "def accuracy(y_true, y_pred):\n",
    "    return 1 - (error/len(yout_array))\n",
    "\n",
    "acc = accuracy(yout, y_train_array)\n",
    "print(acc)\n",
    "print(acc.shape)\n"
   ]
  },
  {
   "cell_type": "code",
   "execution_count": 146,
   "id": "58346f28",
   "metadata": {
    "scrolled": true
   },
   "outputs": [
    {
     "name": "stdout",
     "output_type": "stream",
     "text": [
      "(9, 136)\n",
      "(9, 136)\n",
      "(9, 136)\n",
      "(9, 136)\n"
     ]
    }
   ],
   "source": [
    "def wnew(weights, learning_rate, error):\n",
    "    wu = weights - learning_rate*der_sigmoid(error)\n",
    "    return wu\n",
    "\n",
    "def bnew(bias, learning_rate, error):\n",
    "    bu = -learning_rate * der_sigmoid(error)\n",
    "    return bu\n",
    "\n",
    "w2_new = wnew(w2, 0.1, error)\n",
    "b2_new = bnew(b2, 0.1, error)\n",
    "\n",
    "w1_new = wnew(w1, 0.001, error)\n",
    "b1_new = bnew(b1, 0.01, error)\n",
    "\n",
    "print(w2_new.shape)\n",
    "print(b2_new.shape)\n",
    "print(w1_new.shape)\n",
    "print(b1_new.shape)"
   ]
  },
  {
   "cell_type": "code",
   "execution_count": 149,
   "id": "537dd056",
   "metadata": {},
   "outputs": [],
   "source": [
    "def backward(yout_array, w1_new, b1_new, w2_new, b2_new):\n",
    "    \n",
    "    h1_new = np.dot(w2_new,yout_array) + b2_new    # 1st layer input to 1st hidden layer\n",
    "    h1o_new = sigmoid(h1_new)      # 1st hidden layer apply sigmoid function\n",
    "    \n",
    "    x = np.dot(w1,h1_new) + b1_new    # 1st hidden layer output to second hidden layer\n",
    "    xo = sigmoid(x)      # 2nd hidden layer apply sigmoid activation function\n",
    "    \n",
    "\n",
    "    return h1o_new, xo\n"
   ]
  },
  {
   "cell_type": "code",
   "execution_count": 150,
   "id": "a7091ada",
   "metadata": {},
   "outputs": [
    {
     "ename": "ValueError",
     "evalue": "shapes (9,136) and (2,1) not aligned: 136 (dim 1) != 2 (dim 0)",
     "output_type": "error",
     "traceback": [
      "\u001b[1;31m---------------------------------------------------------------------------\u001b[0m",
      "\u001b[1;31mValueError\u001b[0m                                Traceback (most recent call last)",
      "Input \u001b[1;32mIn [150]\u001b[0m, in \u001b[0;36m<cell line: 1>\u001b[1;34m()\u001b[0m\n\u001b[1;32m----> 1\u001b[0m xout \u001b[38;5;241m=\u001b[39m \u001b[43mbackward\u001b[49m\u001b[43m(\u001b[49m\u001b[43myout_array\u001b[49m\u001b[43m,\u001b[49m\u001b[43m \u001b[49m\u001b[43mw1_new\u001b[49m\u001b[43m,\u001b[49m\u001b[43m \u001b[49m\u001b[43mb1_new\u001b[49m\u001b[43m,\u001b[49m\u001b[43m \u001b[49m\u001b[43mw2_new\u001b[49m\u001b[43m,\u001b[49m\u001b[43m \u001b[49m\u001b[43mb2_new\u001b[49m\u001b[43m)\u001b[49m\n\u001b[0;32m      2\u001b[0m xout\n",
      "Input \u001b[1;32mIn [149]\u001b[0m, in \u001b[0;36mbackward\u001b[1;34m(yout_array, w1_new, b1_new, w2_new, b2_new)\u001b[0m\n\u001b[0;32m      1\u001b[0m \u001b[38;5;28;01mdef\u001b[39;00m \u001b[38;5;21mbackward\u001b[39m(yout_array, w1_new, b1_new, w2_new, b2_new):\n\u001b[1;32m----> 3\u001b[0m     h1_new \u001b[38;5;241m=\u001b[39m \u001b[43mnp\u001b[49m\u001b[38;5;241;43m.\u001b[39;49m\u001b[43mdot\u001b[49m\u001b[43m(\u001b[49m\u001b[43mw2_new\u001b[49m\u001b[43m,\u001b[49m\u001b[43myout_array\u001b[49m\u001b[43m)\u001b[49m \u001b[38;5;241m+\u001b[39m b2_new    \u001b[38;5;66;03m# 1st layer input to 1st hidden layer\u001b[39;00m\n\u001b[0;32m      4\u001b[0m     h1o_new \u001b[38;5;241m=\u001b[39m sigmoid(h1_new)      \u001b[38;5;66;03m# 1st hidden layer apply sigmoid function\u001b[39;00m\n\u001b[0;32m      6\u001b[0m     x \u001b[38;5;241m=\u001b[39m np\u001b[38;5;241m.\u001b[39mdot(w1,h1_new) \u001b[38;5;241m+\u001b[39m b1_new    \u001b[38;5;66;03m# 1st hidden layer output to second hidden layer\u001b[39;00m\n",
      "File \u001b[1;32m<__array_function__ internals>:180\u001b[0m, in \u001b[0;36mdot\u001b[1;34m(*args, **kwargs)\u001b[0m\n",
      "\u001b[1;31mValueError\u001b[0m: shapes (9,136) and (2,1) not aligned: 136 (dim 1) != 2 (dim 0)"
     ]
    }
   ],
   "source": [
    "xout = backward(yout_array, w1_new, b1_new, w2_new, b2_new)\n",
    "xout"
   ]
  },
  {
   "cell_type": "code",
   "execution_count": 151,
   "id": "30349adb",
   "metadata": {},
   "outputs": [],
   "source": [
    "def last_forward(xout, w1_new, b1_new, w2_new, b2_new):\n",
    "    xout_array = np.array(xout)\n",
    "    \n",
    "    h1_next = np.dot(xout_array,w1_new) + b1_new    # 1st layer input to 1st hidden layer\n",
    "    h1o_next = sigmoid(h1_next)      # 1st hidden layer apply sigmoid function\n",
    "    \n",
    "    y_next = np.dot(h1o_next,w2_new) + b2_new    # 1st hidden layer output to second hidden layer\n",
    "    yo_next = sigmoid(y_next)      # 2nd hidden layer apply sigmoid activation function\n",
    "    \n",
    "    return h1o_next, yo_next"
   ]
  },
  {
   "cell_type": "code",
   "execution_count": null,
   "id": "11d5b326",
   "metadata": {},
   "outputs": [],
   "source": []
  },
  {
   "cell_type": "code",
   "execution_count": null,
   "id": "a684e21a",
   "metadata": {},
   "outputs": [],
   "source": []
  },
  {
   "cell_type": "code",
   "execution_count": 160,
   "id": "ee39bca4",
   "metadata": {},
   "outputs": [],
   "source": [
    "def mlp(x, w1, b1, w2, b2):\n",
    "    for i in range(1, 10000):\n",
    "        forward(x_train_array, w1, b1, w2, b2)\n",
    "        backward(yout, w1_new, b1_new, w2_new, b2_new)\n",
    "        last_forward(xout, w1_new, b1_new, w2_new, b2_new)\n",
    "        break"
   ]
  },
  {
   "cell_type": "code",
   "execution_count": 161,
   "id": "0c74da86",
   "metadata": {},
   "outputs": [],
   "source": [
    "# def predict(x, y, learning):\n",
    "\n",
    "#     probas, caches = L_model_forward(X, parameters)\n",
    "\n",
    "#     for i in range(0, probas.shape[1]):\n",
    "#         if probas[0, i] > 0.5:\n",
    "#             p[0, i] = 1\n",
    "#         else:\n",
    "#             p[0, i] = 0\n",
    "#     print(\"Accuracy: \" + str(np.sum((p == y)/m)))\n",
    "\n",
    "#     return p\n",
    "  \n"
   ]
  },
  {
   "cell_type": "code",
   "execution_count": 162,
   "id": "fe30501e",
   "metadata": {},
   "outputs": [
    {
     "name": "stdout",
     "output_type": "stream",
     "text": [
      "(9, 9)\n",
      "(9, 136)\n"
     ]
    },
    {
     "ename": "ValueError",
     "evalue": "shapes (9,136) and (2,) not aligned: 136 (dim 1) != 2 (dim 0)",
     "output_type": "error",
     "traceback": [
      "\u001b[1;31m---------------------------------------------------------------------------\u001b[0m",
      "\u001b[1;31mValueError\u001b[0m                                Traceback (most recent call last)",
      "Input \u001b[1;32mIn [162]\u001b[0m, in \u001b[0;36m<cell line: 1>\u001b[1;34m()\u001b[0m\n\u001b[1;32m----> 1\u001b[0m \u001b[43mmlp\u001b[49m\u001b[43m(\u001b[49m\u001b[43my_train_array\u001b[49m\u001b[43m,\u001b[49m\u001b[43m \u001b[49m\u001b[43mw1\u001b[49m\u001b[43m,\u001b[49m\u001b[43m \u001b[49m\u001b[43mb1\u001b[49m\u001b[43m,\u001b[49m\u001b[43m \u001b[49m\u001b[43mw2\u001b[49m\u001b[43m,\u001b[49m\u001b[43m \u001b[49m\u001b[43mb2\u001b[49m\u001b[43m)\u001b[49m\n",
      "Input \u001b[1;32mIn [160]\u001b[0m, in \u001b[0;36mmlp\u001b[1;34m(x, w1, b1, w2, b2)\u001b[0m\n\u001b[0;32m      2\u001b[0m \u001b[38;5;28;01mfor\u001b[39;00m i \u001b[38;5;129;01min\u001b[39;00m \u001b[38;5;28mrange\u001b[39m(\u001b[38;5;241m1\u001b[39m, \u001b[38;5;241m10000\u001b[39m):\n\u001b[0;32m      3\u001b[0m     forward(x_train_array, w1, b1, w2, b2)\n\u001b[1;32m----> 4\u001b[0m     \u001b[43mbackward\u001b[49m\u001b[43m(\u001b[49m\u001b[43myout\u001b[49m\u001b[43m,\u001b[49m\u001b[43m \u001b[49m\u001b[43mw1_new\u001b[49m\u001b[43m,\u001b[49m\u001b[43m \u001b[49m\u001b[43mb1_new\u001b[49m\u001b[43m,\u001b[49m\u001b[43m \u001b[49m\u001b[43mw2_new\u001b[49m\u001b[43m,\u001b[49m\u001b[43m \u001b[49m\u001b[43mb2_new\u001b[49m\u001b[43m)\u001b[49m\n\u001b[0;32m      5\u001b[0m     last_forward(xout, w1_new, b1_new, w2_new, b2_new)\n\u001b[0;32m      6\u001b[0m     \u001b[38;5;28;01mbreak\u001b[39;00m\n",
      "Input \u001b[1;32mIn [149]\u001b[0m, in \u001b[0;36mbackward\u001b[1;34m(yout_array, w1_new, b1_new, w2_new, b2_new)\u001b[0m\n\u001b[0;32m      1\u001b[0m \u001b[38;5;28;01mdef\u001b[39;00m \u001b[38;5;21mbackward\u001b[39m(yout_array, w1_new, b1_new, w2_new, b2_new):\n\u001b[1;32m----> 3\u001b[0m     h1_new \u001b[38;5;241m=\u001b[39m \u001b[43mnp\u001b[49m\u001b[38;5;241;43m.\u001b[39;49m\u001b[43mdot\u001b[49m\u001b[43m(\u001b[49m\u001b[43mw2_new\u001b[49m\u001b[43m,\u001b[49m\u001b[43myout_array\u001b[49m\u001b[43m)\u001b[49m \u001b[38;5;241m+\u001b[39m b2_new    \u001b[38;5;66;03m# 1st layer input to 1st hidden layer\u001b[39;00m\n\u001b[0;32m      4\u001b[0m     h1o_new \u001b[38;5;241m=\u001b[39m sigmoid(h1_new)      \u001b[38;5;66;03m# 1st hidden layer apply sigmoid function\u001b[39;00m\n\u001b[0;32m      6\u001b[0m     x \u001b[38;5;241m=\u001b[39m np\u001b[38;5;241m.\u001b[39mdot(w1,h1_new) \u001b[38;5;241m+\u001b[39m b1_new    \u001b[38;5;66;03m# 1st hidden layer output to second hidden layer\u001b[39;00m\n",
      "File \u001b[1;32m<__array_function__ internals>:180\u001b[0m, in \u001b[0;36mdot\u001b[1;34m(*args, **kwargs)\u001b[0m\n",
      "\u001b[1;31mValueError\u001b[0m: shapes (9,136) and (2,) not aligned: 136 (dim 1) != 2 (dim 0)"
     ]
    }
   ],
   "source": [
    "mlp(y_train_array, w1, b1, w2, b2)"
   ]
  },
  {
   "cell_type": "code",
   "execution_count": null,
   "id": "3b418d37",
   "metadata": {},
   "outputs": [],
   "source": []
  }
 ],
 "metadata": {
  "kernelspec": {
   "display_name": "Python 3 (ipykernel)",
   "language": "python",
   "name": "python3"
  },
  "language_info": {
   "codemirror_mode": {
    "name": "ipython",
    "version": 3
   },
   "file_extension": ".py",
   "mimetype": "text/x-python",
   "name": "python",
   "nbconvert_exporter": "python",
   "pygments_lexer": "ipython3",
   "version": "3.10.5"
  }
 },
 "nbformat": 4,
 "nbformat_minor": 5
}
